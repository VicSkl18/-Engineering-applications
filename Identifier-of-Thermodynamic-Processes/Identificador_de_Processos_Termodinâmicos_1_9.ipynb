{
  "cells": [
    {
      "cell_type": "markdown",
      "metadata": {
        "id": "view-in-github",
        "colab_type": "text"
      },
      "source": [
        "<a href=\"https://colab.research.google.com/github/VicSkl18/-Engineering-applications/blob/main/Identificador_de_Processos_Termodin%C3%A2micos_1_9.ipynb\" target=\"_parent\"><img src=\"https://colab.research.google.com/assets/colab-badge.svg\" alt=\"Open In Colab\"/></a>"
      ]
    },
    {
      "cell_type": "markdown",
      "metadata": {
        "id": "JEBMrqGsDAkw"
      },
      "source": [
        "Calculadora para Identificação de Processos Termodinâmicos\n",
        "\n",
        "Versão 1.9\n",
        "\n",
        "Autor: Victor S. Teixeira\n",
        "\n",
        "e-mail: unieviteixeira@fei.edu.br\n",
        "\n",
        "LinkedIn: https://www.linkedin.com/in/victor-s-teixeira-022a5717b\n",
        "\n",
        "\n",
        "Este programa oferece duas funcionalidades principais relacionadas a processos termodinâmicos:\n",
        "\n",
        "**[1] Cálculo de Propriedades de Processos:**\n",
        "\n",
        "    • Identifique o tipo de processo (isotérmico, isobárico, isocórico ou adiabático);\n",
        "    • Calcule trabalho (W), calor (Q) e variação de energia interna (ΔEi) de um processo termodinâmico;\n",
        "    • Requer a entrada do tipo de gás (monoatômico, diatômico ou poliatômico) e valores iniciais e finais de pressão e volume.\n",
        "\n",
        "**[2] Identificação de Gás em Processo Adiabático:**\n",
        "\n",
        "    • Determine o tipo de gás a partir dos valores de pressão e volume inicial e final de um processo adiabático.\n",
        "\n",
        "**Dica:** Para executar o programa completo de uma só vez, utilize o menu \"Ambiente de execução\" > \"Executar tudo\" do Google Colab."
      ]
    },
    {
      "cell_type": "markdown",
      "metadata": {
        "id": "XoqhS37cKJ6G"
      },
      "source": [
        "### 1 - Bibliotecas\n"
      ]
    },
    {
      "cell_type": "code",
      "execution_count": null,
      "metadata": {
        "id": "LKIRZOJbJ_q3"
      },
      "outputs": [],
      "source": [
        "from numpy import log as ln\n",
        "import numpy as np\n",
        "import plotly.graph_objects as go"
      ]
    },
    {
      "cell_type": "markdown",
      "metadata": {
        "id": "3I5pHDmlKtqe"
      },
      "source": [
        "### 2 - Entrada de valores"
      ]
    },
    {
      "cell_type": "code",
      "execution_count": null,
      "metadata": {
        "id": "iKhW6U8EKuDH"
      },
      "outputs": [],
      "source": [
        "def entrada_de_valores_com_gama():\n",
        "\n",
        "#ENTRADA DE VALORES\n",
        "\n",
        "  try:\n",
        "      g = float(input(\"Constante adiabática (γ) = \"))\n",
        "      pi   = float(input(\"Insira o valor da pressão inicial: \"))\n",
        "      pf   = float(input(\"Insira o valor da pressão final: \"))\n",
        "      vi   = float(input(\"Insira o valor do volume inicial: \"))\n",
        "      vf   = float(input(\"Insira o valor do volume final: \"))\n",
        "      print(\"=\"*85)\n",
        "\n",
        "  except Exception as  erro:\n",
        "      print('='*85)\n",
        "      print(\"Um dos valores inseridos não é um número,\\nnão será possível realizar os cálculos.\\nInsira os valores novamente!\")\n",
        "      entrada_de_valores_com_gama()\n",
        "      print('='*85)\n",
        "\n",
        "  while g not in [1.67, 1.4, 1.33]:\n",
        "      print(\"A constante adiabática inserida é inválida!!!\")\n",
        "      g = float(input(\"Constante adiabática (γ) = \"))\n",
        "      print('='*85)\n",
        "\n",
        "  if g == 1.67:\n",
        "        cv = (3/2)\n",
        "        cp = (5/2)\n",
        "\n",
        "  elif g ==  1.4:\n",
        "      cv = (5/2)\n",
        "      cp = (7/2)\n",
        "\n",
        "\n",
        "  elif g == 1.33:\n",
        "      cv = 3\n",
        "      cp = 4\n",
        "\n",
        "\n",
        "  #Envia os dados desta célula para a função identifica_processo()\n",
        "  identifica_processo(g, cv, cp, pi, pf, vi, vf)"
      ]
    },
    {
      "cell_type": "markdown",
      "metadata": {
        "id": "FG6Th6d8LBBW"
      },
      "source": [
        "### 3 - Identificação do Processo"
      ]
    },
    {
      "cell_type": "code",
      "execution_count": null,
      "metadata": {
        "id": "w6L8-YnpLBRd"
      },
      "outputs": [],
      "source": [
        "def identifica_processo(gama, Cv, Cp, Pi, Pf, Vi, Vf):\n",
        "\n",
        "    if Pi == Pf:\n",
        "     #Isobárico\n",
        "      isobarico(gama, Cv, Cp, Pi, Pf, Vi, Vf)\n",
        "\n",
        "    elif Vi == Vf:\n",
        "     #Isocórico\n",
        "      isocorico(gama, Cv, Cp, Pi, Pf, Vi, Vf)\n",
        "\n",
        "    else:\n",
        "      n = adb_ist(gama, Pi, Pf, Vi, Vf)\n",
        "\n",
        "      if n == 1:\n",
        "      #Isotérmico\n",
        "        isotermico(gama, Cv, Cp, Pi, Pf, Vi, Vf)\n",
        "\n",
        "      if n == 2:\n",
        "      #Adiabático\n",
        "        adiabatico(gama, Cv, Cp, Pi, Pf, Vi, Vf)\n"
      ]
    },
    {
      "cell_type": "markdown",
      "metadata": {
        "id": "BkN59pP_M4H9"
      },
      "source": [
        "### 3 - Isobárico"
      ]
    },
    {
      "cell_type": "code",
      "execution_count": null,
      "metadata": {
        "id": "CPtRV8XRM3m-"
      },
      "outputs": [],
      "source": [
        "def isobarico(g, CV, CP, PI, PF, VI, VF):\n",
        "\n",
        "    esc_x, esc_y = escala(PI, PF, VI, VF)\n",
        "\n",
        "    #Cálculos: Trabalho, Calor envolvido, Variação de energia interna\n",
        "    W = PI * (VF - VI)\n",
        "    Q = CP * W\n",
        "    Ei = CV * PI * (VF - VI)\n",
        "\n",
        "    #Resultado dos cálculos\n",
        "    print(\"W = {:.3f} J\".format(W))\n",
        "    print(\"Q = {:.3f} J\".format(Q))\n",
        "    print(\"ΔEi = {:.3f} J\".format(Ei))\n",
        "    print(\"=\"*85)\n",
        "\n",
        "    #Diagrama pxV\n",
        "    isobarico_x = [VI, VF]\n",
        "\n",
        "    isobarico_y = [PI, PI]\n",
        "\n",
        "    #Plot do Gráfico\n",
        "\n",
        "    fig = go.Figure()\n",
        "    fig.add_trace(go.Scatter(x = isobarico_x, y = isobarico_y, mode = 'lines'))\n",
        "    fig.update_layout(title='Diagrama pxV: Processo Isobárico',\n",
        "    xaxis_title='Volume (m³)',\n",
        "    yaxis_title='Pressão (Pa)',\n",
        "    height = 400, width = 600,\n",
        "    plot_bgcolor = 'white',\n",
        "    font = {'family': 'Arial','size': 16,'color': 'black'})\n",
        "    fig.update_xaxes( showgrid=True, gridwidth=1, gridcolor='lightgray', tick0 = 0,  dtick = esc_x,  exponentformat = \"power\",\n",
        "    showline=True, linewidth=1, linecolor='black')\n",
        "    fig.update_yaxes(showgrid=True, gridwidth=1, gridcolor='lightgray', tick0 = 0,  dtick = esc_y,  exponentformat = \"power\",\n",
        "    showline=True, linewidth=1, linecolor='black')\n",
        "    fig.show()\n",
        "\n",
        "    print(\"=\"*85)\n",
        "    #Verifica se o usuário quer modelar um ciclo ou calcular um novo processo\n",
        "    calcular_novamente()\n"
      ]
    },
    {
      "cell_type": "markdown",
      "metadata": {
        "id": "Yu8KA-3_QLLW"
      },
      "source": [
        "### 4 - Isocórico"
      ]
    },
    {
      "cell_type": "code",
      "execution_count": null,
      "metadata": {
        "id": "pQU5HrAjQLiO"
      },
      "outputs": [],
      "source": [
        "def isocorico(g, CV, CP, PI, PF, VI, VF):\n",
        "\n",
        "    escala_vol_I = VI - VI*0.5\n",
        "\n",
        "    esc_x, esc_y = escala(PI, PF, VI, VF)\n",
        "\n",
        "    #Cálculos: Trabalho, Calor envolvido, Variação de energia interna\n",
        "    W = 0\n",
        "    Q = CV * (PF - PI) * VI\n",
        "    Ei = Q\n",
        "\n",
        "    #Resultado dos cálculos\n",
        "    print(\"W = {:.3f} J\".format(W))\n",
        "    print(\"Q = {:.3f} J\".format(Q))\n",
        "    print(\"ΔEi = {:.3f} J\".format(Ei))\n",
        "    print(\"=\"*85)\n",
        "\n",
        "    #Diagrama pxV\n",
        "    isocorico_x = [VI, VF]\n",
        "\n",
        "    isocorico_y = [PI, PF]\n",
        "\n",
        "    #Plot do Gráfico\n",
        "    fig = go.Figure()\n",
        "    fig.add_trace(go.Scatter(x = isocorico_x, y = isocorico_y, mode = 'lines'))\n",
        "    fig.update_layout(title='Diagrama pxV: Processo Isocórico',\n",
        "    xaxis_title='Volume (m³)',\n",
        "    yaxis_title='Pressão (Pa)',\n",
        "    height = 400, width = 600,\n",
        "    plot_bgcolor = 'white',\n",
        "    font = {'family': 'Arial','size': 16,'color': 'black'})\n",
        "    fig.update_xaxes(\n",
        "     range=[0.5 * VI, 1.5 * VI],\n",
        "     tickvals=[0.5 * VI, 1.5 * VI],\n",
        "     #tickformat=\".1e\",  # notação científica com 1 casa decimal\n",
        "     exponentformat=\"power\",  # mostra potência de 10 explicitamente\n",
        "     showgrid=True,\n",
        "     gridwidth=1,\n",
        "     gridcolor='lightgray',\n",
        "     showline=True,\n",
        "     linewidth=1,\n",
        "     linecolor='black'\n",
        "    )\n",
        "    fig.update_yaxes(showgrid=True, gridwidth=1, gridcolor='lightgray', tick0 = 0,  dtick = esc_y, exponentformat = \"power\",\n",
        "    showline=True, linewidth=1, linecolor='black')\n",
        "    fig.show()\n",
        "\n",
        "    print(\"=\"*85)\n",
        "    #Verifica se o usuário quer modelar um ciclo ou calcular um novo processo\n",
        "    calcular_novamente()\n"
      ]
    },
    {
      "cell_type": "markdown",
      "metadata": {
        "id": "AwlPL8kcR0ou"
      },
      "source": [
        "### 5 - Isotérmico"
      ]
    },
    {
      "cell_type": "code",
      "execution_count": null,
      "metadata": {
        "id": "hPWqeNDDR08U"
      },
      "outputs": [],
      "source": [
        "def isotermico(g, CV, CP, PI, PF, VI, VF):\n",
        "\n",
        "    esc_x, esc_y = escala(PI, PF, VI, VF)\n",
        "\n",
        "    #Cálculos: Trabalho, Calor envolvido, Variação de energia interna\n",
        "    W = PF * VF * ln((VF / VI))\n",
        "    Q = W\n",
        "    Ei = 0\n",
        "\n",
        "    #Resultado dos cálculos e nome do processo\n",
        "    print(\"W = {:.3f} J\".format(W))\n",
        "    print(\"Q = {:.3f} J\".format(Q))\n",
        "    print(\"ΔEi = {:.3f} J\".format(Ei))\n",
        "    print(\"=\"*85)\n",
        "\n",
        "    #Diagrama pxV\n",
        "    isotermico_pr = []\n",
        "    isotermico_vl = []\n",
        "    k = PI * VI\n",
        "\n",
        "    if PI > PF:\n",
        "      isotermico_y = np.arange(PI, PF, (PF-PI) / 20)\n",
        "\n",
        "    else:\n",
        "      isotermico_y = np.arange(PF, PI, (PI-PF) / 20)\n",
        "\n",
        "    for x in isotermico_y:\n",
        "        isotermico_pr.append(x)\n",
        "\n",
        "    isotermico_x = k / isotermico_y\n",
        "    for x in isotermico_x:\n",
        "        isotermico_vl.append(x)\n",
        "\n",
        "    if PI > PF:\n",
        "      isotermico_pr.append(PF)\n",
        "      isotermico_pr.insert(0, PI)\n",
        "      isotermico_vl.append(VF)\n",
        "      isotermico_vl.insert(0, VI)\n",
        "\n",
        "    else:\n",
        "      isotermico_pr.append(PI)\n",
        "      isotermico_pr.insert(0, PF)\n",
        "      isotermico_vl.append(VI)\n",
        "      isotermico_vl.insert(0, VF)\n",
        "\n",
        "    #Plot do Gráfico\n",
        "    fig = go.Figure()\n",
        "    fig.add_trace(go.Scatter(x = isotermico_vl, y = isotermico_pr, mode = 'lines'))\n",
        "    fig.update_layout(title='Diagrama pxV: Processo Isotérmico',\n",
        "    xaxis_title='Volume (m³)',\n",
        "    yaxis_title='Pressão (Pa)',\n",
        "    height = 400, width = 600,\n",
        "    plot_bgcolor = 'white',\n",
        "    font = {'family': 'Arial','size': 16,'color': 'black'})\n",
        "    fig.update_xaxes( showgrid=True, gridwidth=1, gridcolor='lightgray', tick0 = 0,  dtick = esc_x, exponentformat = \"power\",\n",
        "    showline=True, linewidth=1, linecolor='black')\n",
        "    fig.update_yaxes(showgrid=True, gridwidth=1, gridcolor='lightgray', tick0 = 0,  dtick = esc_y, exponentformat = \"power\",\n",
        "    showline=True, linewidth=1, linecolor='black')\n",
        "    fig.show()\n",
        "\n",
        "    print(\"=\"*85)\n",
        "    #Verifica se o usuário quer modelar um ciclo ou calcular um novo processo\n",
        "    calcular_novamente()\n"
      ]
    },
    {
      "cell_type": "markdown",
      "metadata": {
        "id": "yi7VBF7iSrq1"
      },
      "source": [
        "### 6 - Adiabático"
      ]
    },
    {
      "cell_type": "code",
      "execution_count": null,
      "metadata": {
        "id": "lEHxTZ_kSr1T"
      },
      "outputs": [],
      "source": [
        "def adiabatico(g, CV, CP, PI, PF, VI, VF):\n",
        "\n",
        "    esc_x, esc_y = escala(PI, PF, VI, VF)\n",
        "\n",
        "    #Cálculos: Trabalho, calor envolvido, variação de energia interna\n",
        "    W = (((PI * VI) - (PF * VF)) / (g - 1))\n",
        "    Q = 0\n",
        "    Ei = -W\n",
        "\n",
        "    #Resultado dos cálculos e nome do processo\n",
        "    print(\"W = {:.3f} J\".format(W))\n",
        "    print(\"Q = {:.3f} J\".format(Q))\n",
        "    print(\"ΔEi = {:.3f} J\".format(Ei))\n",
        "    print(\"=\"*85)\n",
        "\n",
        "    #Diagrama pxV\n",
        "    adiabatico_pr = []\n",
        "    adiabatico_vl = []\n",
        "    k = PI * (VI ** g)\n",
        "\n",
        "    if PI > PF:\n",
        "      adiabatico_y = np.arange(PI, PF, (PF - PI) / 20)\n",
        "\n",
        "    else:\n",
        "      adiabatico_y = np.arange(PF, PI, (PI - PF) / 20)\n",
        "\n",
        "    for x in adiabatico_y:\n",
        "        adiabatico_pr.append(x)\n",
        "\n",
        "    adiabatico_x = (k /adiabatico_y) ** (1/g)\n",
        "    for x in adiabatico_x:\n",
        "      adiabatico_vl.append(x)\n",
        "\n",
        "    if PI > PF:\n",
        "      adiabatico_pr.append(PF)\n",
        "      adiabatico_pr.insert(0, PI)\n",
        "      adiabatico_vl.append(VF)\n",
        "      adiabatico_vl.insert(0, VI)\n",
        "\n",
        "    else:\n",
        "      adiabatico_pr.append(PI)\n",
        "      adiabatico_pr.insert(0, PF)\n",
        "      adiabatico_vl.append(VI)\n",
        "      adiabatico_vl.insert(0, VF)\n",
        "\n",
        "    #Plot do Gráfico\n",
        "    fig = go.Figure()\n",
        "    fig.add_trace(go.Scatter(x = adiabatico_vl, y = adiabatico_pr, mode = 'lines'))\n",
        "    fig.update_layout(title='Diagrama pxV: Processo Adiabático',\n",
        "    xaxis_title='Volume (m³)',\n",
        "    yaxis_title='Pressão (Pa)',\n",
        "    height = 400, width = 600,\n",
        "    plot_bgcolor = 'white',\n",
        "    font = {'family': 'Arial','size': 16,'color': 'black'})\n",
        "    fig.update_xaxes( showgrid=True, gridwidth=1, gridcolor='lightgray', tick0 = 0,  dtick = esc_x, exponentformat = \"power\",\n",
        "    showline=True, linewidth=1, linecolor='black')\n",
        "    fig.update_yaxes(showgrid=True, gridwidth=1, gridcolor='lightgray', tick0 = 0,  dtick = esc_y, exponentformat = \"power\",\n",
        "    showline=True, linewidth=1, linecolor='black')\n",
        "    fig.show()\n",
        "\n",
        "    print(\"=\"*85)\n",
        "    #Verifica se o usuário quer modelar um ciclo ou calcular um novo processo\n",
        "    calcular_novamente()"
      ]
    },
    {
      "cell_type": "markdown",
      "metadata": {
        "id": "xrW3MMjkOCxO"
      },
      "source": [
        "### 7 - Verifica se é isotérmico ou adiabático"
      ]
    },
    {
      "cell_type": "code",
      "execution_count": null,
      "metadata": {
        "id": "kSL_7AkQOC8V"
      },
      "outputs": [],
      "source": [
        "def adb_ist(gama, PI, PF, VI, VF):\n",
        "\n",
        "    #Abstração da equação: Pi.Vi = Pf.Vf\n",
        "    PV_i = PI * VI\n",
        "    PV_f = PF * VF\n",
        "\n",
        "    if  PV_i > PV_f:\n",
        "        maior1 = PV_i\n",
        "        menor1 = PV_f\n",
        "\n",
        "    elif  PV_i < PV_f:\n",
        "        maior1 = PV_f\n",
        "        menor1 = PV_i\n",
        "\n",
        "    else:\n",
        "        maior1 = PV_i\n",
        "        menor1 = PV_f\n",
        "\n",
        "    #Cálculo do erro percentual entre Pi.Vi e Pf.Vf\n",
        "    erro_isotermico = (100 *(np.abs(PV_i - PV_f))) / maior1\n",
        "\n",
        "    #Abstração da equação: (Pi.Vi)^γ = (Pf.Vf)^γ\n",
        "    PV_i_gama = PI * (VI ** gama)\n",
        "    PV_f_gama = PF * (VF ** gama)\n",
        "\n",
        "    if  PV_i_gama > PV_f_gama:\n",
        "        maior2 = PV_i_gama\n",
        "        menor2 = PV_f_gama\n",
        "\n",
        "    elif  PV_i_gama < PV_f_gama:\n",
        "        maior2 = PV_f_gama\n",
        "        menor2 = PV_i_gama\n",
        "\n",
        "    else:\n",
        "        maior2 = PV_i_gama\n",
        "        menor2 = PV_f_gama\n",
        "\n",
        "    #Cálculo do erro percentual entre (Pi.Vi)^γ e (Pf.Vf)^γ\n",
        "    erro_adiabático = (100 *(np.abs(PV_i_gama - PV_f_gama))) / maior2\n",
        "\n",
        "    #Comparação do erro percentual entre as equações:\n",
        "    if  (PV_i >= PV_f) or (PV_i <= PV_f):\n",
        "        if (erro_isotermico > erro_adiabático) and (erro_adiabático < 2):\n",
        "            return 2\n",
        "\n",
        "        elif (erro_isotermico < erro_adiabático) and (erro_isotermico < 2):\n",
        "            return 1\n"
      ]
    },
    {
      "cell_type": "markdown",
      "metadata": {
        "id": "SrAMHxdGTzPM"
      },
      "source": [
        "### 8 - Descobre o valor da constante adiabática"
      ]
    },
    {
      "cell_type": "code",
      "execution_count": null,
      "metadata": {
        "id": "_hcMoZulTzec"
      },
      "outputs": [],
      "source": [
        "def descobre_gama():\n",
        "\n",
        "  try:\n",
        "\n",
        "    pi   = float(input(\"Insira o valor da pressão inicial: \"))\n",
        "    pf   = float(input(\"Insira o valor da pressão final: \"))\n",
        "    vi   = float(input(\"Insira o valor do volume inicial: \"))\n",
        "    vf   = float(input(\"Insira o valor do volume final: \"))\n",
        "    print(\"=\"*85)\n",
        "\n",
        "  except Exception as  erro:\n",
        "    print(\"=\"*85)\n",
        "    print(\"Um dos valores inseridos não é um número,\\nnão será possível realizar os cálculos.\\nInsira os valores novamente!\")\n",
        "    descobre_gama()\n",
        "\n",
        "  P = (pi/pf)\n",
        "  V = (vf/vi)\n",
        "\n",
        "  mono = 1.67 * 0.05\n",
        "  dia = 1.4 * 0.05\n",
        "  poli = 1.33 * 0.05\n",
        "\n",
        "  gama = ln(P) / ln(V)\n",
        "\n",
        "  if gama >= (1.67  * (1 - mono)) and gama <= (1.67 * (1 + mono)) or  gama == 1.67:\n",
        "\n",
        "      print(\"Constante adiabática (γ) = {}\".format(1.67))\n",
        "      print(\"Você está trabalhando com um gás monoatômico!\")\n",
        "      print(\"=\"*85)\n",
        "\n",
        "  elif gama >= (1.4  * (1 - dia)) and gama <= (1.4 * (1 + dia)) or  gama == 1.4:\n",
        "\n",
        "      print(\"Constante adiabática (γ) = {}\".format(1.4))\n",
        "      print(\"Você está trabalhando com um gás diatômico!\")\n",
        "      print('='*85)\n",
        "\n",
        "  elif gama >= (1.33  * (1 - poli)) and gama <= (1.33 * (1 + poli)) or gama == 1.33:\n",
        "\n",
        "      print(\"Constante adiabática (γ) = {}\".format(1.33))\n",
        "      print(\"Você está trabalhando com um gás poliatômico!\")\n",
        "      print(\"=\"*85)\n",
        "\n",
        "  else:\n",
        "\n",
        "      print(\"Os valores de entrada não condizem com um processo adiabático\\nportanto não foi possível descobrir o valor de γ!\")\n",
        "      print(\"Insira novos valores que atendam o requisitado.\")\n",
        "      descobre_gama()\n",
        "\n",
        "  calcular_novamente()\n"
      ]
    },
    {
      "cell_type": "markdown",
      "metadata": {
        "id": "8Asw5l7hTWCc"
      },
      "source": [
        "### 9 - Verifica se o usuário quer ou não calcular novamente"
      ]
    },
    {
      "cell_type": "code",
      "execution_count": null,
      "metadata": {
        "id": "6krR0_nnTWLc"
      },
      "outputs": [],
      "source": [
        "def calcular_novamente():\n",
        "\n",
        "   print('[1] Fazer outro cálculo\\n[2] Encerrar calculadora')\n",
        "   print(\"=\"*85)\n",
        "\n",
        "   RESP = str(input(\"Qual opção deseja? \"))\n",
        "\n",
        "   while RESP not in ['1', '2']:\n",
        "\n",
        "        print(\"INSIRA APENAS '1' OU '2' !!!\")\n",
        "        RESP = input(\"Qual opção deseja? \")\n",
        "\n",
        "   if RESP == '1':\n",
        "     print(\"=\"*85)\n",
        "     vg = valor_gama()\n",
        "\n",
        "     if vg == 1:\n",
        "      entrada_de_valores_com_gama()\n",
        "\n",
        "     if vg == 2:\n",
        "       descobre_gama()\n",
        "\n",
        "\n",
        "   elif RESP == '2':\n",
        "      print(\"=\"*85)\n",
        "      print(\"CALCULADORA ENCERRADA!!!\")\n",
        "      print(\"=\"*85)"
      ]
    },
    {
      "cell_type": "markdown",
      "metadata": {
        "id": "RdDAo30kXaJK"
      },
      "source": [
        "### 10 - Verifica se o usário tem ou não o valor da constante adiabática"
      ]
    },
    {
      "cell_type": "code",
      "execution_count": null,
      "metadata": {
        "id": "gnmfi3RRXaZK"
      },
      "outputs": [],
      "source": [
        "def valor_gama():\n",
        "    print(\"Obs.: A Opção [2] identifica se o gás é monoatômico, diatômico ou poliatômico \\na partir dos valores de pressão e volume de um processo adiabático.\")\n",
        "    print(\"=\"*85)\n",
        "    print(\"Você tem o valor da constante adiabática (γ)?\\n[1] SIM\\n[2] NÃO\")\n",
        "    print(\"=\"*85)\n",
        "    x = str(input(\"Insira uma das opções: \"))\n",
        "    print(\"=\"*85)\n",
        "\n",
        "    while x not in ['1', '2']:\n",
        "        print(\"Responda apenas com '1' para sim ou '2' para não!!!\")\n",
        "        print(\"=\"*85)\n",
        "        x = str(input('Você tem o valor da constante adiabática? '))\n",
        "        print(\"=\"*85)\n",
        "\n",
        "    if x == '1':\n",
        "        n = 1\n",
        "        return n\n",
        "\n",
        "    elif x == '2':\n",
        "        n = 2\n",
        "        return n"
      ]
    },
    {
      "cell_type": "markdown",
      "metadata": {
        "id": "tsDpgabLX4Ay"
      },
      "source": [
        "### 11 - Configuração da escala dos gráficos"
      ]
    },
    {
      "cell_type": "code",
      "execution_count": null,
      "metadata": {
        "id": "VEe0Oqr0X3ea"
      },
      "outputs": [],
      "source": [
        "def escala(pi, pf, vi, vf):\n",
        "\n",
        "  y = ((pi + pf) / 2) / 2\n",
        "  x = ((vi + vf) / 2) / 2\n",
        "\n",
        "  return x, y"
      ]
    },
    {
      "cell_type": "markdown",
      "metadata": {
        "id": "_6C8XT2dvJcI"
      },
      "source": [
        "### 12 - Informações"
      ]
    },
    {
      "cell_type": "code",
      "execution_count": null,
      "metadata": {
        "id": "p4dlzZbLKHXO",
        "scrolled": false
      },
      "outputs": [],
      "source": [
        "print(\"=\"*85)\n",
        "print(\"\\033[1m CÁLCULO E IDENTIFICAÇÃO DE PROCESSOS TERMODINÂMICOS \\033[0m\".center(85))\n",
        "print(\"=\"*85)\n",
        "print(\"\\033[1;31mEste programa utiliza o Sistema Internacional de Unidades (SI).\\nInsira a pressão em pascal (Pa) e o volume em metros cúbicos (m³).\\033[0m\")\n",
        "\n",
        "print(\"=\"*85)\n",
        "print(\"Constante Adiabática (γ):\")\n",
        "print(\"Monoatômico = 1.67\\nDiatômico   = 1.4\\nPoliatômico = 1.33\")\n",
        "print(\"=\"*85)\n",
        "\n",
        "vg = valor_gama()\n",
        "\n",
        "if vg == 1:\n",
        "  entrada_de_valores_com_gama()\n",
        "\n",
        "if vg == 2:\n",
        "  descobre_gama()"
      ]
    }
  ],
  "metadata": {
    "colab": {
      "provenance": [],
      "include_colab_link": true
    },
    "kernelspec": {
      "display_name": "Python 3 (ipykernel)",
      "language": "python",
      "name": "python3"
    },
    "language_info": {
      "codemirror_mode": {
        "name": "ipython",
        "version": 3
      },
      "file_extension": ".py",
      "mimetype": "text/x-python",
      "name": "python",
      "nbconvert_exporter": "python",
      "pygments_lexer": "ipython3",
      "version": "3.10.9"
    }
  },
  "nbformat": 4,
  "nbformat_minor": 0
}
