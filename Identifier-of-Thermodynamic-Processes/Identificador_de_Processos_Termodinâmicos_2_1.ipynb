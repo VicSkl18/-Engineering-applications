{
  "cells": [
    {
      "cell_type": "markdown",
      "metadata": {
        "id": "view-in-github",
        "colab_type": "text"
      },
      "source": [
        "<a href=\"https://colab.research.google.com/github/VicSkl18/-Engineering-applications/blob/main/C%C3%B3pia_de_Identificador_de_Processos_Termodin%C3%A2micos_2_1.ipynb\" target=\"_parent\"><img src=\"https://colab.research.google.com/assets/colab-badge.svg\" alt=\"Open In Colab\"/></a>"
      ]
    },
    {
      "cell_type": "markdown",
      "metadata": {
        "id": "JEBMrqGsDAkw"
      },
      "source": [
        "Calculadora para Identificação de Processos Termodinâmicos\n",
        "\n",
        "Versão 2.1\n",
        "\n",
        "Autor: Victor S. Teixeira\n",
        "\n",
        "e-mail: unieviteixeira@fei.edu.br\n",
        "\n",
        "LinkedIn: https://www.linkedin.com/in/victor-s-teixeira-022a5717b\n",
        "\n",
        "\n",
        "**Sobre**:\n",
        "\n",
        "*   Este programa identifica processos termodinâmicos e calcula trabalho (W), calor (Q) e variação de energia interna (ΔEi) de transformações de gases ideiais. Basta fornecer o tipo de gás e os dados de pressão e volume inicial e final. Adicionalmente, permite determinar a constante adiabática em processos adiabáticos ou ciclos que os incluam.\n",
        "\n",
        "**Dicas para uma boa utilização:**\n",
        "\n",
        "*    É importante atentar-se ao sistema de unidades utilizado nas entradas do programa, eles irão impactar diretamente nos resultados e unidades das grandezas finais. Fica a cargo do usuário ter pleno conhecimento em análise dimensional.\n",
        "\n",
        "\n",
        "\n",
        "\n"
      ]
    },
    {
      "cell_type": "markdown",
      "metadata": {
        "id": "XoqhS37cKJ6G"
      },
      "source": [
        "###1 - Bibliotecas\n"
      ]
    },
    {
      "cell_type": "code",
      "execution_count": 1,
      "metadata": {
        "id": "LKIRZOJbJ_q3"
      },
      "outputs": [],
      "source": [
        "from numpy import log as ln\n",
        "import numpy as np\n",
        "import plotly.graph_objects as go"
      ]
    },
    {
      "cell_type": "markdown",
      "metadata": {
        "id": "3I5pHDmlKtqe"
      },
      "source": [
        "### 2 - Entrada de valores"
      ]
    },
    {
      "cell_type": "code",
      "execution_count": 2,
      "metadata": {
        "id": "iKhW6U8EKuDH"
      },
      "outputs": [],
      "source": [
        "def entrada_de_valores_com_gama():\n",
        "\n",
        "#ENTRADA DE VALORES\n",
        "\n",
        "  try:\n",
        "      i = float(input(\"Selecione o índice de sua constante adiabática (γ) = \"))\n",
        "      pi   = float(input(\"Insira o valor da pressão inicial: \"))\n",
        "      pf   = float(input(\"Insira o valor da pressão final: \"))\n",
        "      vi   = float(input(\"Insira o valor do volume inicial: \"))\n",
        "      vf   = float(input(\"Insira o valor do volume final: \"))\n",
        "      print(\"=\"*85)\n",
        "\n",
        "  except Exception as  erro:\n",
        "      print('='*85)\n",
        "      print(\"Um dos valores inseridos não é um número,\\nnão será possível realizar os cálculos.\\nInsira os valores novamente!\")\n",
        "      entrada_de_valores_com_gama()\n",
        "      print('='*85)\n",
        "\n",
        "  while i not in [1, 2, 3]:\n",
        "      print(\"Selecione apenas [1], [2] ou [3]!!!\")\n",
        "      g = float(input(\"Constante adiabática (γ) = \"))\n",
        "      print('='*85)\n",
        "\n",
        "  if i == 1:\n",
        "        g = (5/3)\n",
        "        cv = (3/2)\n",
        "        cp = (5/2)\n",
        "\n",
        "  elif i ==  2:\n",
        "      g = (7/5)\n",
        "      cv = (5/2)\n",
        "      cp = (7/2)\n",
        "\n",
        "\n",
        "  elif i == 3:\n",
        "      g = (4/3)\n",
        "      cv = 3\n",
        "      cp = 4\n",
        "\n",
        "\n",
        "  #Envia os dados desta célula para a função identifica_processo()\n",
        "  identifica_processo(g, cv, cp, pi, pf, vi, vf)"
      ]
    },
    {
      "cell_type": "markdown",
      "metadata": {
        "id": "FG6Th6d8LBBW"
      },
      "source": [
        "### 3 - Identificação do Processo"
      ]
    },
    {
      "cell_type": "code",
      "execution_count": 3,
      "metadata": {
        "id": "w6L8-YnpLBRd"
      },
      "outputs": [],
      "source": [
        "def identifica_processo(gama, Cv, Cp, Pi, Pf, Vi, Vf):\n",
        "\n",
        "    if Pi == Pf:\n",
        "     #Isobárico\n",
        "      isobarico(gama, Cv, Cp, Pi, Pf, Vi, Vf)\n",
        "\n",
        "    elif Vi == Vf:\n",
        "     #Isocórico\n",
        "      isocorico(gama, Cv, Cp, Pi, Pf, Vi, Vf)\n",
        "\n",
        "    else:\n",
        "      n = adb_ist(gama, Pi, Pf, Vi, Vf)\n",
        "\n",
        "      if n == 1:\n",
        "      #Isotérmico\n",
        "        isotermico(gama, Cv, Cp, Pi, Pf, Vi, Vf)\n",
        "\n",
        "      if n == 2:\n",
        "      #Adiabático\n",
        "        adiabatico(gama, Cv, Cp, Pi, Pf, Vi, Vf)\n",
        "\n",
        "      else:\n",
        "        print(\"Os valores de entrada não representam nenhum dos processos termodinâmicos conhecidos.\\nInsira novos valores!!!\")\n",
        "        print('='*85)\n",
        "        entrada_de_valores_com_gama()\n"
      ]
    },
    {
      "cell_type": "markdown",
      "metadata": {
        "id": "BkN59pP_M4H9"
      },
      "source": [
        "### 3 - Isobárico"
      ]
    },
    {
      "cell_type": "code",
      "execution_count": 4,
      "metadata": {
        "id": "CPtRV8XRM3m-"
      },
      "outputs": [],
      "source": [
        "def isobarico(g, CV, CP, PI, PF, VI, VF):\n",
        "\n",
        "    esc_x, esc_y = escala(PI, PF, VI, VF)\n",
        "\n",
        "    #Cálculos: Trabalho, Calor envolvido, Variação de energia interna\n",
        "    W = PI * (VF - VI)\n",
        "    Q = CP * W\n",
        "    Ei = CV * PI * (VF - VI)\n",
        "\n",
        "    #Resultado dos cálculos\n",
        "    print(\"W = {:.3f}\".format(W))\n",
        "    print(\"Q = {:.3f}\".format(Q))\n",
        "    print(\"ΔEi = {:.3f}\".format(Ei))\n",
        "    print(\"=\"*85)\n",
        "\n",
        "    #Diagrama pxV\n",
        "    isobarico_x = [VI, VF]\n",
        "\n",
        "    isobarico_y = [PI, PI]\n",
        "\n",
        "    #Plot do Gráfico\n",
        "\n",
        "    fig = go.Figure()\n",
        "    fig.add_trace(go.Scatter(x = isobarico_x, y = isobarico_y, mode = 'lines'))\n",
        "    fig.update_layout(title='Diagrama pxV: Processo Isobárico',\n",
        "    xaxis_title='Volume',\n",
        "    yaxis_title='Pressão',\n",
        "    height = 400, width = 600,\n",
        "    plot_bgcolor = 'white',\n",
        "    font = {'family': 'Arial','size': 16,'color': 'black'})\n",
        "    fig.update_xaxes( showgrid=True, gridwidth=1, gridcolor='lightgray', tick0 = 0,  dtick = esc_x,  exponentformat = \"power\",\n",
        "    showline=True, linewidth=1, linecolor='black')\n",
        "    fig.update_yaxes(showgrid=True, gridwidth=1, gridcolor='lightgray', tick0 = 0,  dtick = esc_y,  exponentformat = \"power\",\n",
        "    showline=True, linewidth=1, linecolor='black')\n",
        "    fig.show()\n",
        "\n",
        "    print(\"=\"*85)\n",
        "    #Verifica se o usuário quer modelar um ciclo ou calcular um novo processo\n",
        "    calcular_novamente()\n"
      ]
    },
    {
      "cell_type": "markdown",
      "metadata": {
        "id": "Yu8KA-3_QLLW"
      },
      "source": [
        "### 4 - Isocórico"
      ]
    },
    {
      "cell_type": "code",
      "execution_count": 5,
      "metadata": {
        "id": "pQU5HrAjQLiO"
      },
      "outputs": [],
      "source": [
        "def isocorico(g, CV, CP, PI, PF, VI, VF):\n",
        "\n",
        "    escala_vol_I = VI - VI*0.5\n",
        "\n",
        "    esc_x, esc_y = escala(PI, PF, VI, VF)\n",
        "\n",
        "    #Cálculos: Trabalho, Calor envolvido, Variação de energia interna\n",
        "    W = 0\n",
        "    Q = CV * (PF - PI) * VI\n",
        "    Ei = Q\n",
        "\n",
        "    #Resultado dos cálculos\n",
        "    print(\"W = {:.3f}\".format(W))\n",
        "    print(\"Q = {:.3f}\".format(Q))\n",
        "    print(\"ΔEi = {:.3f}\".format(Ei))\n",
        "    print(\"=\"*85)\n",
        "\n",
        "    #Diagrama pxV\n",
        "    isocorico_x = [VI, VF]\n",
        "\n",
        "    isocorico_y = [PI, PF]\n",
        "\n",
        "    #Plot do Gráfico\n",
        "    fig = go.Figure()\n",
        "    fig.add_trace(go.Scatter(x = isocorico_x, y = isocorico_y, mode = 'lines'))\n",
        "    fig.update_layout(title='Diagrama pxV: Processo Isocórico',\n",
        "    xaxis_title='Volume',\n",
        "    yaxis_title='Pressão',\n",
        "    height = 400, width = 600,\n",
        "    plot_bgcolor = 'white',\n",
        "    font = {'family': 'Arial','size': 16,'color': 'black'})\n",
        "    fig.update_xaxes(\n",
        "     range=[0.5 * VI, 1.5 * VI],\n",
        "     tickvals=[0.5 * VI, 1.5 * VI],\n",
        "     #tickformat=\".1e\",  # notação científica com 1 casa decimal\n",
        "     exponentformat=\"power\",  # mostra potência de 10 explicitamente\n",
        "     showgrid=True,\n",
        "     gridwidth=1,\n",
        "     gridcolor='lightgray',\n",
        "     showline=True,\n",
        "     linewidth=1,\n",
        "     linecolor='black'\n",
        "    )\n",
        "    fig.update_yaxes(showgrid=True, gridwidth=1, gridcolor='lightgray', tick0 = 0,  dtick = esc_y, exponentformat = \"power\",\n",
        "    showline=True, linewidth=1, linecolor='black')\n",
        "    fig.show()\n",
        "\n",
        "    print(\"=\"*85)\n",
        "    #Verifica se o usuário quer modelar um ciclo ou calcular um novo processo\n",
        "    calcular_novamente()\n"
      ]
    },
    {
      "cell_type": "markdown",
      "metadata": {
        "id": "AwlPL8kcR0ou"
      },
      "source": [
        "### 5 - Isotérmico"
      ]
    },
    {
      "cell_type": "code",
      "execution_count": 6,
      "metadata": {
        "id": "hPWqeNDDR08U"
      },
      "outputs": [],
      "source": [
        "def isotermico(g, CV, CP, PI, PF, VI, VF):\n",
        "\n",
        "    esc_x, esc_y = escala(PI, PF, VI, VF)\n",
        "\n",
        "    #Cálculos: Trabalho, Calor envolvido, Variação de energia interna\n",
        "    W = PF * VF * ln((VF / VI))\n",
        "    Q = W\n",
        "    Ei = 0\n",
        "\n",
        "    #Resultado dos cálculos e nome do processo\n",
        "    print(\"W = {:.3f}\".format(W))\n",
        "    print(\"Q = {:.3f}\".format(Q))\n",
        "    print(\"ΔEi = {:.3f}\".format(Ei))\n",
        "    print(\"=\"*85)\n",
        "\n",
        "    #Diagrama pxV\n",
        "    isotermico_pr = []\n",
        "    isotermico_vl = []\n",
        "    k = PI * VI\n",
        "\n",
        "    if PI > PF:\n",
        "      isotermico_y = np.arange(PI, PF, (PF-PI) / 20)\n",
        "\n",
        "    else:\n",
        "      isotermico_y = np.arange(PF, PI, (PI-PF) / 20)\n",
        "\n",
        "    for x in isotermico_y:\n",
        "        isotermico_pr.append(x)\n",
        "\n",
        "    isotermico_x = k / isotermico_y\n",
        "    for x in isotermico_x:\n",
        "        isotermico_vl.append(x)\n",
        "\n",
        "    if PI > PF:\n",
        "      isotermico_pr.append(PF)\n",
        "      isotermico_pr.insert(0, PI)\n",
        "      isotermico_vl.append(VF)\n",
        "      isotermico_vl.insert(0, VI)\n",
        "\n",
        "    else:\n",
        "      isotermico_pr.append(PI)\n",
        "      isotermico_pr.insert(0, PF)\n",
        "      isotermico_vl.append(VI)\n",
        "      isotermico_vl.insert(0, VF)\n",
        "\n",
        "    #Plot do Gráfico\n",
        "    fig = go.Figure()\n",
        "    fig.add_trace(go.Scatter(x = isotermico_vl, y = isotermico_pr, mode = 'lines'))\n",
        "    fig.update_layout(title='Diagrama pxV: Processo Isotérmico',\n",
        "    xaxis_title='Volume',\n",
        "    yaxis_title='Pressão',\n",
        "    height = 400, width = 600,\n",
        "    plot_bgcolor = 'white',\n",
        "    font = {'family': 'Arial','size': 16,'color': 'black'})\n",
        "    fig.update_xaxes( showgrid=True, gridwidth=1, gridcolor='lightgray', tick0 = 0,  dtick = esc_x, exponentformat = \"power\",\n",
        "    showline=True, linewidth=1, linecolor='black')\n",
        "    fig.update_yaxes(showgrid=True, gridwidth=1, gridcolor='lightgray', tick0 = 0,  dtick = esc_y, exponentformat = \"power\",\n",
        "    showline=True, linewidth=1, linecolor='black')\n",
        "    fig.show()\n",
        "\n",
        "    print(\"=\"*85)\n",
        "    #Verifica se o usuário quer modelar um ciclo ou calcular um novo processo\n",
        "    calcular_novamente()\n"
      ]
    },
    {
      "cell_type": "markdown",
      "metadata": {
        "id": "yi7VBF7iSrq1"
      },
      "source": [
        "### 6 - Adiabático"
      ]
    },
    {
      "cell_type": "code",
      "execution_count": 7,
      "metadata": {
        "id": "lEHxTZ_kSr1T"
      },
      "outputs": [],
      "source": [
        "def adiabatico(g, CV, CP, PI, PF, VI, VF):\n",
        "\n",
        "    esc_x, esc_y = escala(PI, PF, VI, VF)\n",
        "\n",
        "    #Cálculos: Trabalho, calor envolvido, variação de energia interna\n",
        "    W = (((PI * VI) - (PF * VF)) / (g - 1))\n",
        "    Q = 0\n",
        "    Ei = -W\n",
        "\n",
        "    #Resultado dos cálculos e nome do processo\n",
        "    print(\"W = {:.3f}\".format(W))\n",
        "    print(\"Q = {:.3f}\".format(Q))\n",
        "    print(\"ΔEi = {:.3f}\".format(Ei))\n",
        "    print(\"=\"*85)\n",
        "\n",
        "    #Diagrama pxV\n",
        "    adiabatico_pr = []\n",
        "    adiabatico_vl = []\n",
        "    k = PI * (VI ** g)\n",
        "\n",
        "    if PI > PF:\n",
        "      adiabatico_y = np.arange(PI, PF, (PF - PI) / 20)\n",
        "\n",
        "    else:\n",
        "      adiabatico_y = np.arange(PF, PI, (PI - PF) / 20)\n",
        "\n",
        "    for x in adiabatico_y:\n",
        "        adiabatico_pr.append(x)\n",
        "\n",
        "    adiabatico_x = (k /adiabatico_y) ** (1/g)\n",
        "    for x in adiabatico_x:\n",
        "      adiabatico_vl.append(x)\n",
        "\n",
        "    if PI > PF:\n",
        "      adiabatico_pr.append(PF)\n",
        "      adiabatico_pr.insert(0, PI)\n",
        "      adiabatico_vl.append(VF)\n",
        "      adiabatico_vl.insert(0, VI)\n",
        "\n",
        "    else:\n",
        "      adiabatico_pr.append(PI)\n",
        "      adiabatico_pr.insert(0, PF)\n",
        "      adiabatico_vl.append(VI)\n",
        "      adiabatico_vl.insert(0, VF)\n",
        "\n",
        "    #Plot do Gráfico\n",
        "    fig = go.Figure()\n",
        "    fig.add_trace(go.Scatter(x = adiabatico_vl, y = adiabatico_pr, mode = 'lines'))\n",
        "    fig.update_layout(title='Diagrama pV: Processo Adiabático',\n",
        "    xaxis_title='Volume',\n",
        "    yaxis_title='Pressão',\n",
        "    height = 400, width = 600,\n",
        "    plot_bgcolor = 'white',\n",
        "    font = {'family': 'Arial','size': 16,'color': 'black'})\n",
        "    fig.update_xaxes( showgrid=True, gridwidth=1, gridcolor='lightgray', tick0 = 0,  dtick = esc_x, exponentformat = \"power\",\n",
        "    showline=True, linewidth=1, linecolor='black')\n",
        "    fig.update_yaxes(showgrid=True, gridwidth=1, gridcolor='lightgray', tick0 = 0,  dtick = esc_y, exponentformat = \"power\",\n",
        "    showline=True, linewidth=1, linecolor='black')\n",
        "    fig.show()\n",
        "\n",
        "    print(\"=\"*85)\n",
        "    #Verifica se o usuário quer modelar um ciclo ou calcular um novo processo\n",
        "    calcular_novamente()"
      ]
    },
    {
      "cell_type": "markdown",
      "metadata": {
        "id": "xrW3MMjkOCxO"
      },
      "source": [
        "### 7 - Verifica se é isotérmico ou adiabático"
      ]
    },
    {
      "cell_type": "code",
      "execution_count": 8,
      "metadata": {
        "id": "kSL_7AkQOC8V"
      },
      "outputs": [],
      "source": [
        "def adb_ist(gama, PI, PF, VI, VF):\n",
        "\n",
        "    #Abstração da equação: Pi.Vi = Pf.Vf\n",
        "    PV_i = PI * VI\n",
        "    PV_f = PF * VF\n",
        "\n",
        "    if  PV_i > PV_f:\n",
        "        maior1 = PV_i\n",
        "        menor1 = PV_f\n",
        "\n",
        "    elif  PV_i < PV_f:\n",
        "        maior1 = PV_f\n",
        "        menor1 = PV_i\n",
        "\n",
        "    else:\n",
        "        maior1 = PV_i\n",
        "        menor1 = PV_f\n",
        "\n",
        "    #Cálculo do erro percentual entre Pi.Vi e Pf.Vf\n",
        "    erro_isotermico = (100 *(np.abs(PV_i - PV_f))) / maior1\n",
        "\n",
        "    #Abstração da equação: (Pi.Vi)^γ = (Pf.Vf)^γ\n",
        "    PV_i_gama = PI * (VI ** gama)\n",
        "    PV_f_gama = PF * (VF ** gama)\n",
        "\n",
        "    if  PV_i_gama > PV_f_gama:\n",
        "        maior2 = PV_i_gama\n",
        "        menor2 = PV_f_gama\n",
        "\n",
        "    elif  PV_i_gama < PV_f_gama:\n",
        "        maior2 = PV_f_gama\n",
        "        menor2 = PV_i_gama\n",
        "\n",
        "    else:\n",
        "        maior2 = PV_i_gama\n",
        "        menor2 = PV_f_gama\n",
        "\n",
        "    #Cálculo do erro percentual entre (Pi.Vi)^γ e (Pf.Vf)^γ\n",
        "    erro_adiabático = (100 *(np.abs(PV_i_gama - PV_f_gama))) / maior2\n",
        "\n",
        "    #Comparação do erro percentual entre as equações:\n",
        "    if  (PV_i >= PV_f) or (PV_i <= PV_f):\n",
        "        if (erro_isotermico > erro_adiabático) and (erro_adiabático < 2):\n",
        "            return 2\n",
        "\n",
        "        elif (erro_isotermico < erro_adiabático) and (erro_isotermico < 2):\n",
        "            return 1\n"
      ]
    },
    {
      "cell_type": "markdown",
      "metadata": {
        "id": "SrAMHxdGTzPM"
      },
      "source": [
        "### 8 - Descobre o valor da constante adiabática"
      ]
    },
    {
      "cell_type": "code",
      "execution_count": 9,
      "metadata": {
        "id": "_hcMoZulTzec"
      },
      "outputs": [],
      "source": [
        "def descobre_gama():\n",
        "\n",
        "  try:\n",
        "\n",
        "    pi   = float(input(\"Insira o valor da pressão inicial: \"))\n",
        "    pf   = float(input(\"Insira o valor da pressão final: \"))\n",
        "    vi   = float(input(\"Insira o valor do volume inicial: \"))\n",
        "    vf   = float(input(\"Insira o valor do volume final: \"))\n",
        "    print(\"=\"*85)\n",
        "\n",
        "  except Exception as  erro:\n",
        "    print(\"=\"*85)\n",
        "    print(\"Um dos valores inseridos não é um número,\\nnão será possível realizar os cálculos.\\nInsira os valores novamente!\")\n",
        "    descobre_gama()\n",
        "\n",
        "  P = (pi/pf)\n",
        "  V = (vf/vi)\n",
        "\n",
        "  mono = 1.67 * 0.05\n",
        "  dia = 1.4 * 0.05\n",
        "  poli = 1.33 * 0.05\n",
        "\n",
        "  gama = (ln(P) / ln(V))\n",
        "\n",
        "  if gama >= (1.67  * (1 - mono)) and gama <= (1.67 * (1 + mono)) or  gama == 1.67:\n",
        "\n",
        "      print(\"Constante adiabática (γ) = {}\".format(1.67))\n",
        "      print(\"Você está trabalhando com um gás monoatômico!\")\n",
        "      print(\"=\"*85)\n",
        "\n",
        "  elif gama >= (1.4  * (1 - dia)) and gama <= (1.4 * (1 + dia)) or  gama == 1.4:\n",
        "\n",
        "      print(\"Constante adiabática (γ) = {}\".format(1.4))\n",
        "      print(\"Você está trabalhando com um gás diatômico!\")\n",
        "      print('='*85)\n",
        "\n",
        "  elif gama >= (1.33  * (1 - poli)) and gama <= (1.33 * (1 + poli)) or gama == 1.33:\n",
        "\n",
        "      print(\"Constante adiabática (γ) = {}\".format(1.33))\n",
        "      print(\"Você está trabalhando com um gás poliatômico!\")\n",
        "      print(\"=\"*85)\n",
        "\n",
        "  else:\n",
        "\n",
        "      print(\"Os valores de entrada não condizem com um processo adiabático\\nportanto não foi possível descobrir o valor de γ!\")\n",
        "      print(\"Insira novos valores que atendam o requisitado.\")\n",
        "      descobre_gama()\n",
        "\n",
        "  calcular_novamente()\n"
      ]
    },
    {
      "cell_type": "markdown",
      "metadata": {
        "id": "8Asw5l7hTWCc"
      },
      "source": [
        "### 9 - Verifica se o usuário quer ou não calcular novamente"
      ]
    },
    {
      "cell_type": "code",
      "execution_count": 10,
      "metadata": {
        "id": "6krR0_nnTWLc"
      },
      "outputs": [],
      "source": [
        "def calcular_novamente():\n",
        "\n",
        "   print('[1] Fazer outro cálculo\\n[2] Encerrar calculadora')\n",
        "   print(\"=\"*85)\n",
        "\n",
        "   RESP = str(input(\"Qual opção deseja? \"))\n",
        "\n",
        "   while RESP not in ['1', '2']:\n",
        "\n",
        "        print(\"INSIRA APENAS '1' OU '2' !!!\")\n",
        "        RESP = input(\"Qual opção deseja? \")\n",
        "\n",
        "   if RESP == '1':\n",
        "     print(\"=\"*85)\n",
        "     vg = valor_gama()\n",
        "\n",
        "     if vg == 1:\n",
        "      entrada_de_valores_com_gama()\n",
        "\n",
        "     if vg == 2:\n",
        "       descobre_gama()\n",
        "\n",
        "   elif RESP == '2':\n",
        "      print(\"=\"*85)\n",
        "      print(\"CALCULADORA ENCERRADA!!!\")\n",
        "      print(\"=\"*85)"
      ]
    },
    {
      "cell_type": "markdown",
      "metadata": {
        "id": "RdDAo30kXaJK"
      },
      "source": [
        "### 10 - Verifica se o usário tem ou não o valor da constante adiabática"
      ]
    },
    {
      "cell_type": "code",
      "execution_count": 11,
      "metadata": {
        "id": "gnmfi3RRXaZK"
      },
      "outputs": [],
      "source": [
        "def valor_gama():\n",
        "    print(\"Obs.: A segunda opção é feita especificamente para ciclos termodinâmicos ou em casos\\nonde você tem um processo adiabático para ser usado como referência. Dito isso, seus\\nvalores de entrada devem ser de uma curva adiabática!\")\n",
        "    print(\"=\"*85)\n",
        "    print(\"Você tem o valor da constante adiabática (γ)?\\n\\n[1] SIM\\n[2] NÃO\")\n",
        "    print(\"=\"*85)\n",
        "    x = str(input(\"Insira uma das opções: \"))\n",
        "    print(\"=\"*85)\n",
        "\n",
        "    while x not in ['1', '2']:\n",
        "        print(\"Responda apenas com '1' para sim ou '2' para não!!!\")\n",
        "        print(\"=\"*85)\n",
        "        x = str(input('Você tem o valor da constante adiabática? '))\n",
        "        print(\"=\"*85)\n",
        "\n",
        "    if x == '1':\n",
        "        n = 1\n",
        "        return n\n",
        "\n",
        "    elif x == '2':\n",
        "        n = 2\n",
        "        return n"
      ]
    },
    {
      "cell_type": "markdown",
      "metadata": {
        "id": "tsDpgabLX4Ay"
      },
      "source": [
        "### 11 - Configuração da escala dos gráficos"
      ]
    },
    {
      "cell_type": "code",
      "execution_count": 12,
      "metadata": {
        "id": "VEe0Oqr0X3ea"
      },
      "outputs": [],
      "source": [
        "def escala(pi, pf, vi, vf):\n",
        "\n",
        "  y = ((pi + pf) / 2) / 2\n",
        "  x = ((vi + vf) / 2) / 2\n",
        "\n",
        "  return x, y"
      ]
    },
    {
      "cell_type": "markdown",
      "source": [
        "### 12 - Informações iniciais"
      ],
      "metadata": {
        "id": "-2c-l7eG91vw"
      }
    },
    {
      "cell_type": "code",
      "execution_count": null,
      "metadata": {
        "id": "p4dlzZbLKHXO",
        "scrolled": false,
        "colab": {
          "base_uri": "https://localhost:8080/",
          "height": 1095
        },
        "outputId": "aaac40c7-089a-4d88-f1aa-6a92197e8462"
      },
      "outputs": [
        {
          "output_type": "stream",
          "name": "stdout",
          "text": [
            "=====================================================================================\n",
            "            \u001b[1m CÁLCULO E IDENTIFICAÇÃO DE PROCESSOS TERMODINÂMICOS \u001b[0m            \n",
            "=====================================================================================\n",
            "\u001b[1;31mA escolha do sistema de unidades é exclusiva do usuário portanto, cabe ao usuário ter\n",
            "pleno conhecimento de análise dimensional para uma boa interpretação do gráfico e dos\n",
            "resultados.\u001b[0m\n",
            "=====================================================================================\n",
            "Constante Adiabática (γ):\n",
            "\n",
            "[1] Monoatômico = 1.67\n",
            "[2] Diatômico   = 1.40\n",
            "[3] Poliatômico = 1.33\n",
            "=====================================================================================\n",
            "Obs.: A segunda opção é feita especificamente para ciclos termodinâmicos ou em casos\n",
            "onde você tem um processo adiabático para ser usado como referência. Dito isso, seus\n",
            "valores de entrada devem ser de uma curva adiabática!\n",
            "=====================================================================================\n",
            "Você tem o valor da constante adiabática (γ)?\n",
            "\n",
            "[1] SIM\n",
            "[2] NÃO\n",
            "=====================================================================================\n",
            "Insira uma das opções: 1\n",
            "=====================================================================================\n",
            "Selecione o índice de sua constante adiabática (γ) = 1\n",
            "Insira o valor da pressão inicial: 300\n",
            "Insira o valor da pressão final: 94.49\n",
            "Insira o valor do volume inicial: 0.01\n",
            "Insira o valor do volume final: 0.02\n",
            "=====================================================================================\n",
            "W = 1.665\n",
            "Q = 0.000\n",
            "ΔEi = -1.665\n",
            "=====================================================================================\n"
          ]
        },
        {
          "output_type": "display_data",
          "data": {
            "text/html": [
              "<html>\n",
              "<head><meta charset=\"utf-8\" /></head>\n",
              "<body>\n",
              "    <div>            <script src=\"https://cdnjs.cloudflare.com/ajax/libs/mathjax/2.7.5/MathJax.js?config=TeX-AMS-MML_SVG\"></script><script type=\"text/javascript\">if (window.MathJax && window.MathJax.Hub && window.MathJax.Hub.Config) {window.MathJax.Hub.Config({SVG: {font: \"STIX-Web\"}});}</script>                <script type=\"text/javascript\">window.PlotlyConfig = {MathJaxConfig: 'local'};</script>\n",
              "        <script charset=\"utf-8\" src=\"https://cdn.plot.ly/plotly-2.35.2.min.js\"></script>                <div id=\"0802a1bf-7a8d-4df8-8b54-46020692f1d5\" class=\"plotly-graph-div\" style=\"height:400px; width:600px;\"></div>            <script type=\"text/javascript\">                                    window.PLOTLYENV=window.PLOTLYENV || {};                                    if (document.getElementById(\"0802a1bf-7a8d-4df8-8b54-46020692f1d5\")) {                    Plotly.newPlot(                        \"0802a1bf-7a8d-4df8-8b54-46020692f1d5\",                        [{\"mode\":\"lines\",\"x\":[0.01,0.01,0.01021131373113343,0.010434970290633417,0.010672185659757416,0.010924348231361241,0.011193051328853868,0.011480133511716315,0.011787728963300891,0.012118331072530918,0.012474873481278041,0.012860834544125292,0.013280373605795471,0.013738511176599912,0.01424137069086734,0.01479650827200323,0.015413370893357587,0.016103946267818615,0.016883706686151724,0.017773017312185637,0.018799304345610113,0.02],\"y\":[300.0,300.0,289.7245,279.44899999999996,269.17349999999993,258.8979999999999,248.6224999999999,238.34699999999987,228.07149999999984,217.79599999999982,207.5204999999998,197.24499999999978,186.96949999999975,176.69399999999973,166.4184999999997,156.1429999999997,145.86749999999967,135.59199999999964,125.31649999999962,115.0409999999996,104.76549999999958,94.49],\"type\":\"scatter\"}],                        {\"template\":{\"data\":{\"histogram2dcontour\":[{\"type\":\"histogram2dcontour\",\"colorbar\":{\"outlinewidth\":0,\"ticks\":\"\"},\"colorscale\":[[0.0,\"#0d0887\"],[0.1111111111111111,\"#46039f\"],[0.2222222222222222,\"#7201a8\"],[0.3333333333333333,\"#9c179e\"],[0.4444444444444444,\"#bd3786\"],[0.5555555555555556,\"#d8576b\"],[0.6666666666666666,\"#ed7953\"],[0.7777777777777778,\"#fb9f3a\"],[0.8888888888888888,\"#fdca26\"],[1.0,\"#f0f921\"]]}],\"choropleth\":[{\"type\":\"choropleth\",\"colorbar\":{\"outlinewidth\":0,\"ticks\":\"\"}}],\"histogram2d\":[{\"type\":\"histogram2d\",\"colorbar\":{\"outlinewidth\":0,\"ticks\":\"\"},\"colorscale\":[[0.0,\"#0d0887\"],[0.1111111111111111,\"#46039f\"],[0.2222222222222222,\"#7201a8\"],[0.3333333333333333,\"#9c179e\"],[0.4444444444444444,\"#bd3786\"],[0.5555555555555556,\"#d8576b\"],[0.6666666666666666,\"#ed7953\"],[0.7777777777777778,\"#fb9f3a\"],[0.8888888888888888,\"#fdca26\"],[1.0,\"#f0f921\"]]}],\"heatmap\":[{\"type\":\"heatmap\",\"colorbar\":{\"outlinewidth\":0,\"ticks\":\"\"},\"colorscale\":[[0.0,\"#0d0887\"],[0.1111111111111111,\"#46039f\"],[0.2222222222222222,\"#7201a8\"],[0.3333333333333333,\"#9c179e\"],[0.4444444444444444,\"#bd3786\"],[0.5555555555555556,\"#d8576b\"],[0.6666666666666666,\"#ed7953\"],[0.7777777777777778,\"#fb9f3a\"],[0.8888888888888888,\"#fdca26\"],[1.0,\"#f0f921\"]]}],\"heatmapgl\":[{\"type\":\"heatmapgl\",\"colorbar\":{\"outlinewidth\":0,\"ticks\":\"\"},\"colorscale\":[[0.0,\"#0d0887\"],[0.1111111111111111,\"#46039f\"],[0.2222222222222222,\"#7201a8\"],[0.3333333333333333,\"#9c179e\"],[0.4444444444444444,\"#bd3786\"],[0.5555555555555556,\"#d8576b\"],[0.6666666666666666,\"#ed7953\"],[0.7777777777777778,\"#fb9f3a\"],[0.8888888888888888,\"#fdca26\"],[1.0,\"#f0f921\"]]}],\"contourcarpet\":[{\"type\":\"contourcarpet\",\"colorbar\":{\"outlinewidth\":0,\"ticks\":\"\"}}],\"contour\":[{\"type\":\"contour\",\"colorbar\":{\"outlinewidth\":0,\"ticks\":\"\"},\"colorscale\":[[0.0,\"#0d0887\"],[0.1111111111111111,\"#46039f\"],[0.2222222222222222,\"#7201a8\"],[0.3333333333333333,\"#9c179e\"],[0.4444444444444444,\"#bd3786\"],[0.5555555555555556,\"#d8576b\"],[0.6666666666666666,\"#ed7953\"],[0.7777777777777778,\"#fb9f3a\"],[0.8888888888888888,\"#fdca26\"],[1.0,\"#f0f921\"]]}],\"surface\":[{\"type\":\"surface\",\"colorbar\":{\"outlinewidth\":0,\"ticks\":\"\"},\"colorscale\":[[0.0,\"#0d0887\"],[0.1111111111111111,\"#46039f\"],[0.2222222222222222,\"#7201a8\"],[0.3333333333333333,\"#9c179e\"],[0.4444444444444444,\"#bd3786\"],[0.5555555555555556,\"#d8576b\"],[0.6666666666666666,\"#ed7953\"],[0.7777777777777778,\"#fb9f3a\"],[0.8888888888888888,\"#fdca26\"],[1.0,\"#f0f921\"]]}],\"mesh3d\":[{\"type\":\"mesh3d\",\"colorbar\":{\"outlinewidth\":0,\"ticks\":\"\"}}],\"scatter\":[{\"fillpattern\":{\"fillmode\":\"overlay\",\"size\":10,\"solidity\":0.2},\"type\":\"scatter\"}],\"parcoords\":[{\"type\":\"parcoords\",\"line\":{\"colorbar\":{\"outlinewidth\":0,\"ticks\":\"\"}}}],\"scatterpolargl\":[{\"type\":\"scatterpolargl\",\"marker\":{\"colorbar\":{\"outlinewidth\":0,\"ticks\":\"\"}}}],\"bar\":[{\"error_x\":{\"color\":\"#2a3f5f\"},\"error_y\":{\"color\":\"#2a3f5f\"},\"marker\":{\"line\":{\"color\":\"#E5ECF6\",\"width\":0.5},\"pattern\":{\"fillmode\":\"overlay\",\"size\":10,\"solidity\":0.2}},\"type\":\"bar\"}],\"scattergeo\":[{\"type\":\"scattergeo\",\"marker\":{\"colorbar\":{\"outlinewidth\":0,\"ticks\":\"\"}}}],\"scatterpolar\":[{\"type\":\"scatterpolar\",\"marker\":{\"colorbar\":{\"outlinewidth\":0,\"ticks\":\"\"}}}],\"histogram\":[{\"marker\":{\"pattern\":{\"fillmode\":\"overlay\",\"size\":10,\"solidity\":0.2}},\"type\":\"histogram\"}],\"scattergl\":[{\"type\":\"scattergl\",\"marker\":{\"colorbar\":{\"outlinewidth\":0,\"ticks\":\"\"}}}],\"scatter3d\":[{\"type\":\"scatter3d\",\"line\":{\"colorbar\":{\"outlinewidth\":0,\"ticks\":\"\"}},\"marker\":{\"colorbar\":{\"outlinewidth\":0,\"ticks\":\"\"}}}],\"scattermapbox\":[{\"type\":\"scattermapbox\",\"marker\":{\"colorbar\":{\"outlinewidth\":0,\"ticks\":\"\"}}}],\"scatterternary\":[{\"type\":\"scatterternary\",\"marker\":{\"colorbar\":{\"outlinewidth\":0,\"ticks\":\"\"}}}],\"scattercarpet\":[{\"type\":\"scattercarpet\",\"marker\":{\"colorbar\":{\"outlinewidth\":0,\"ticks\":\"\"}}}],\"carpet\":[{\"aaxis\":{\"endlinecolor\":\"#2a3f5f\",\"gridcolor\":\"white\",\"linecolor\":\"white\",\"minorgridcolor\":\"white\",\"startlinecolor\":\"#2a3f5f\"},\"baxis\":{\"endlinecolor\":\"#2a3f5f\",\"gridcolor\":\"white\",\"linecolor\":\"white\",\"minorgridcolor\":\"white\",\"startlinecolor\":\"#2a3f5f\"},\"type\":\"carpet\"}],\"table\":[{\"cells\":{\"fill\":{\"color\":\"#EBF0F8\"},\"line\":{\"color\":\"white\"}},\"header\":{\"fill\":{\"color\":\"#C8D4E3\"},\"line\":{\"color\":\"white\"}},\"type\":\"table\"}],\"barpolar\":[{\"marker\":{\"line\":{\"color\":\"#E5ECF6\",\"width\":0.5},\"pattern\":{\"fillmode\":\"overlay\",\"size\":10,\"solidity\":0.2}},\"type\":\"barpolar\"}],\"pie\":[{\"automargin\":true,\"type\":\"pie\"}]},\"layout\":{\"autotypenumbers\":\"strict\",\"colorway\":[\"#636efa\",\"#EF553B\",\"#00cc96\",\"#ab63fa\",\"#FFA15A\",\"#19d3f3\",\"#FF6692\",\"#B6E880\",\"#FF97FF\",\"#FECB52\"],\"font\":{\"color\":\"#2a3f5f\"},\"hovermode\":\"closest\",\"hoverlabel\":{\"align\":\"left\"},\"paper_bgcolor\":\"white\",\"plot_bgcolor\":\"#E5ECF6\",\"polar\":{\"bgcolor\":\"#E5ECF6\",\"angularaxis\":{\"gridcolor\":\"white\",\"linecolor\":\"white\",\"ticks\":\"\"},\"radialaxis\":{\"gridcolor\":\"white\",\"linecolor\":\"white\",\"ticks\":\"\"}},\"ternary\":{\"bgcolor\":\"#E5ECF6\",\"aaxis\":{\"gridcolor\":\"white\",\"linecolor\":\"white\",\"ticks\":\"\"},\"baxis\":{\"gridcolor\":\"white\",\"linecolor\":\"white\",\"ticks\":\"\"},\"caxis\":{\"gridcolor\":\"white\",\"linecolor\":\"white\",\"ticks\":\"\"}},\"coloraxis\":{\"colorbar\":{\"outlinewidth\":0,\"ticks\":\"\"}},\"colorscale\":{\"sequential\":[[0.0,\"#0d0887\"],[0.1111111111111111,\"#46039f\"],[0.2222222222222222,\"#7201a8\"],[0.3333333333333333,\"#9c179e\"],[0.4444444444444444,\"#bd3786\"],[0.5555555555555556,\"#d8576b\"],[0.6666666666666666,\"#ed7953\"],[0.7777777777777778,\"#fb9f3a\"],[0.8888888888888888,\"#fdca26\"],[1.0,\"#f0f921\"]],\"sequentialminus\":[[0.0,\"#0d0887\"],[0.1111111111111111,\"#46039f\"],[0.2222222222222222,\"#7201a8\"],[0.3333333333333333,\"#9c179e\"],[0.4444444444444444,\"#bd3786\"],[0.5555555555555556,\"#d8576b\"],[0.6666666666666666,\"#ed7953\"],[0.7777777777777778,\"#fb9f3a\"],[0.8888888888888888,\"#fdca26\"],[1.0,\"#f0f921\"]],\"diverging\":[[0,\"#8e0152\"],[0.1,\"#c51b7d\"],[0.2,\"#de77ae\"],[0.3,\"#f1b6da\"],[0.4,\"#fde0ef\"],[0.5,\"#f7f7f7\"],[0.6,\"#e6f5d0\"],[0.7,\"#b8e186\"],[0.8,\"#7fbc41\"],[0.9,\"#4d9221\"],[1,\"#276419\"]]},\"xaxis\":{\"gridcolor\":\"white\",\"linecolor\":\"white\",\"ticks\":\"\",\"title\":{\"standoff\":15},\"zerolinecolor\":\"white\",\"automargin\":true,\"zerolinewidth\":2},\"yaxis\":{\"gridcolor\":\"white\",\"linecolor\":\"white\",\"ticks\":\"\",\"title\":{\"standoff\":15},\"zerolinecolor\":\"white\",\"automargin\":true,\"zerolinewidth\":2},\"scene\":{\"xaxis\":{\"backgroundcolor\":\"#E5ECF6\",\"gridcolor\":\"white\",\"linecolor\":\"white\",\"showbackground\":true,\"ticks\":\"\",\"zerolinecolor\":\"white\",\"gridwidth\":2},\"yaxis\":{\"backgroundcolor\":\"#E5ECF6\",\"gridcolor\":\"white\",\"linecolor\":\"white\",\"showbackground\":true,\"ticks\":\"\",\"zerolinecolor\":\"white\",\"gridwidth\":2},\"zaxis\":{\"backgroundcolor\":\"#E5ECF6\",\"gridcolor\":\"white\",\"linecolor\":\"white\",\"showbackground\":true,\"ticks\":\"\",\"zerolinecolor\":\"white\",\"gridwidth\":2}},\"shapedefaults\":{\"line\":{\"color\":\"#2a3f5f\"}},\"annotationdefaults\":{\"arrowcolor\":\"#2a3f5f\",\"arrowhead\":0,\"arrowwidth\":1},\"geo\":{\"bgcolor\":\"white\",\"landcolor\":\"#E5ECF6\",\"subunitcolor\":\"white\",\"showland\":true,\"showlakes\":true,\"lakecolor\":\"white\"},\"title\":{\"x\":0.05},\"mapbox\":{\"style\":\"light\"}}},\"font\":{\"family\":\"Arial\",\"size\":16,\"color\":\"black\"},\"title\":{\"text\":\"Diagrama pV: Processo Adiabático\"},\"xaxis\":{\"title\":{\"text\":\"Volume\"},\"showgrid\":true,\"gridwidth\":1,\"gridcolor\":\"lightgray\",\"tick0\":0,\"dtick\":0.0075,\"exponentformat\":\"power\",\"showline\":true,\"linewidth\":1,\"linecolor\":\"black\"},\"yaxis\":{\"title\":{\"text\":\"Pressão\"},\"showgrid\":true,\"gridwidth\":1,\"gridcolor\":\"lightgray\",\"tick0\":0,\"dtick\":98.6225,\"exponentformat\":\"power\",\"showline\":true,\"linewidth\":1,\"linecolor\":\"black\"},\"height\":400,\"width\":600,\"plot_bgcolor\":\"white\"},                        {\"responsive\": true}                    ).then(function(){\n",
              "                            \n",
              "var gd = document.getElementById('0802a1bf-7a8d-4df8-8b54-46020692f1d5');\n",
              "var x = new MutationObserver(function (mutations, observer) {{\n",
              "        var display = window.getComputedStyle(gd).display;\n",
              "        if (!display || display === 'none') {{\n",
              "            console.log([gd, 'removed!']);\n",
              "            Plotly.purge(gd);\n",
              "            observer.disconnect();\n",
              "        }}\n",
              "}});\n",
              "\n",
              "// Listen for the removal of the full notebook cells\n",
              "var notebookContainer = gd.closest('#notebook-container');\n",
              "if (notebookContainer) {{\n",
              "    x.observe(notebookContainer, {childList: true});\n",
              "}}\n",
              "\n",
              "// Listen for the clearing of the current output cell\n",
              "var outputEl = gd.closest('.output');\n",
              "if (outputEl) {{\n",
              "    x.observe(outputEl, {childList: true});\n",
              "}}\n",
              "\n",
              "                        })                };                            </script>        </div>\n",
              "</body>\n",
              "</html>"
            ]
          },
          "metadata": {}
        },
        {
          "output_type": "stream",
          "name": "stdout",
          "text": [
            "=====================================================================================\n",
            "[1] Fazer outro cálculo\n",
            "[2] Encerrar calculadora\n",
            "=====================================================================================\n"
          ]
        }
      ],
      "source": [
        "print(\"=\"*85)\n",
        "print(\"\\033[1m CÁLCULO E IDENTIFICAÇÃO DE PROCESSOS TERMODINÂMICOS \\033[0m\".center(85))\n",
        "print(\"=\"*85)\n",
        "print(\"\\033[1;31mA escolha do sistema de unidades é exclusiva do usuário portanto, cabe ao usuário ter\\npleno conhecimento de análise dimensional para uma boa interpretação do gráfico e dos\\nresultados.\\033[0m\")\n",
        "\n",
        "print(\"=\"*85)\n",
        "print(\"Constante Adiabática (γ):\")\n",
        "print(\"\\n[1] Monoatômico = 1.67\\n[2] Diatômico   = 1.40\\n[3] Poliatômico = 1.33\")\n",
        "print(\"=\"*85)\n",
        "\n",
        "vg = valor_gama()\n",
        "\n",
        "if vg == 1:\n",
        "  entrada_de_valores_com_gama()\n",
        "\n",
        "if vg == 2:\n",
        "  descobre_gama()"
      ]
    }
  ],
  "metadata": {
    "colab": {
      "provenance": [],
      "gpuType": "T4",
      "include_colab_link": true
    },
    "kernelspec": {
      "display_name": "Python 3",
      "name": "python3"
    },
    "language_info": {
      "codemirror_mode": {
        "name": "ipython",
        "version": 3
      },
      "file_extension": ".py",
      "mimetype": "text/x-python",
      "name": "python",
      "nbconvert_exporter": "python",
      "pygments_lexer": "ipython3",
      "version": "3.10.9"
    },
    "accelerator": "GPU"
  },
  "nbformat": 4,
  "nbformat_minor": 0
}
